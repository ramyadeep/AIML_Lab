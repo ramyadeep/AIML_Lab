{
 "cells": [
  {
   "cell_type": "code",
   "execution_count": null,
   "metadata": {},
   "outputs": [],
   "source": [
    "#  Importing libraries"
   ]
  },
  {
   "cell_type": "code",
   "execution_count": 2,
   "metadata": {},
   "outputs": [],
   "source": [
    "import pandas as pd\n",
    "from sklearn.datasets import load_iris"
   ]
  },
  {
   "cell_type": "code",
   "execution_count": null,
   "metadata": {},
   "outputs": [],
   "source": [
    "# Load iris dataset"
   ]
  },
  {
   "cell_type": "code",
   "execution_count": 7,
   "metadata": {},
   "outputs": [
    {
     "name": "stdout",
     "output_type": "stream",
     "text": [
      "     sepal length (cm)  sepal width (cm)  petal length (cm)  petal width (cm)\n",
      "0                  5.1               3.5                1.4               0.2\n",
      "1                  4.9               3.0                1.4               0.2\n",
      "2                  4.7               3.2                1.3               0.2\n",
      "3                  4.6               3.1                1.5               0.2\n",
      "4                  5.0               3.6                1.4               0.2\n",
      "..                 ...               ...                ...               ...\n",
      "145                6.7               3.0                5.2               2.3\n",
      "146                6.3               2.5                5.0               1.9\n",
      "147                6.5               3.0                5.2               2.0\n",
      "148                6.2               3.4                5.4               2.3\n",
      "149                5.9               3.0                5.1               1.8\n",
      "\n",
      "[150 rows x 4 columns]\n"
     ]
    }
   ],
   "source": [
    "iris_data = load_iris()\n",
    "df = pd.DataFrame(iris_data.data, columns = iris_data.feature_names)\n",
    "print(df)"
   ]
  },
  {
   "cell_type": "code",
   "execution_count": 11,
   "metadata": {},
   "outputs": [
    {
     "data": {
      "text/html": [
       "<div>\n",
       "<style scoped>\n",
       "    .dataframe tbody tr th:only-of-type {\n",
       "        vertical-align: middle;\n",
       "    }\n",
       "\n",
       "    .dataframe tbody tr th {\n",
       "        vertical-align: top;\n",
       "    }\n",
       "\n",
       "    .dataframe thead th {\n",
       "        text-align: right;\n",
       "    }\n",
       "</style>\n",
       "<table border=\"1\" class=\"dataframe\">\n",
       "  <thead>\n",
       "    <tr style=\"text-align: right;\">\n",
       "      <th></th>\n",
       "      <th>sepal length (cm)</th>\n",
       "      <th>sepal width (cm)</th>\n",
       "      <th>petal length (cm)</th>\n",
       "      <th>petal width (cm)</th>\n",
       "    </tr>\n",
       "  </thead>\n",
       "  <tbody>\n",
       "    <tr>\n",
       "      <th>0</th>\n",
       "      <td>5.1</td>\n",
       "      <td>3.5</td>\n",
       "      <td>1.4</td>\n",
       "      <td>0.2</td>\n",
       "    </tr>\n",
       "    <tr>\n",
       "      <th>1</th>\n",
       "      <td>4.9</td>\n",
       "      <td>3.0</td>\n",
       "      <td>1.4</td>\n",
       "      <td>0.2</td>\n",
       "    </tr>\n",
       "    <tr>\n",
       "      <th>2</th>\n",
       "      <td>4.7</td>\n",
       "      <td>3.2</td>\n",
       "      <td>1.3</td>\n",
       "      <td>0.2</td>\n",
       "    </tr>\n",
       "    <tr>\n",
       "      <th>3</th>\n",
       "      <td>4.6</td>\n",
       "      <td>3.1</td>\n",
       "      <td>1.5</td>\n",
       "      <td>0.2</td>\n",
       "    </tr>\n",
       "    <tr>\n",
       "      <th>4</th>\n",
       "      <td>5.0</td>\n",
       "      <td>3.6</td>\n",
       "      <td>1.4</td>\n",
       "      <td>0.2</td>\n",
       "    </tr>\n",
       "  </tbody>\n",
       "</table>\n",
       "</div>"
      ],
      "text/plain": [
       "   sepal length (cm)  sepal width (cm)  petal length (cm)  petal width (cm)\n",
       "0                5.1               3.5                1.4               0.2\n",
       "1                4.9               3.0                1.4               0.2\n",
       "2                4.7               3.2                1.3               0.2\n",
       "3                4.6               3.1                1.5               0.2\n",
       "4                5.0               3.6                1.4               0.2"
      ]
     },
     "execution_count": 11,
     "metadata": {},
     "output_type": "execute_result"
    }
   ],
   "source": [
    "df.head()"
   ]
  },
  {
   "cell_type": "code",
   "execution_count": null,
   "metadata": {},
   "outputs": [],
   "source": [
    "# Splitting data"
   ]
  },
  {
   "cell_type": "code",
   "execution_count": 9,
   "metadata": {},
   "outputs": [
    {
     "name": "stdout",
     "output_type": "stream",
     "text": [
      "     sepal length (cm)  sepal width (cm)  petal length (cm)  petal width (cm)\n",
      "6                  4.6               3.4                1.4               0.3\n",
      "3                  4.6               3.1                1.5               0.2\n",
      "113                5.7               2.5                5.0               2.0\n",
      "12                 4.8               3.0                1.4               0.1\n",
      "24                 4.8               3.4                1.9               0.2\n",
      "..                 ...               ...                ...               ...\n",
      "80                 5.5               2.4                3.8               1.1\n",
      "66                 5.6               3.0                4.5               1.5\n",
      "138                6.0               3.0                4.8               1.8\n",
      "83                 6.0               2.7                5.1               1.6\n",
      "142                5.8               2.7                5.1               1.9\n",
      "\n",
      "[120 rows x 4 columns]\n",
      "     sepal length (cm)  sepal width (cm)  petal length (cm)  petal width (cm)\n",
      "4                  5.0               3.6                1.4               0.2\n",
      "7                  5.0               3.4                1.5               0.2\n",
      "15                 5.7               4.4                1.5               0.4\n",
      "22                 4.6               3.6                1.0               0.2\n",
      "31                 5.4               3.4                1.5               0.4\n",
      "33                 5.5               4.2                1.4               0.2\n",
      "37                 4.9               3.6                1.4               0.1\n",
      "38                 4.4               3.0                1.3               0.2\n",
      "43                 5.0               3.5                1.6               0.6\n",
      "46                 5.1               3.8                1.6               0.2\n",
      "47                 4.6               3.2                1.4               0.2\n",
      "51                 6.4               3.2                4.5               1.5\n",
      "58                 6.6               2.9                4.6               1.3\n",
      "63                 6.1               2.9                4.7               1.4\n",
      "67                 5.8               2.7                4.1               1.0\n",
      "68                 6.2               2.2                4.5               1.5\n",
      "69                 5.6               2.5                3.9               1.1\n",
      "70                 5.9               3.2                4.8               1.8\n",
      "72                 6.3               2.5                4.9               1.5\n",
      "75                 6.6               3.0                4.4               1.4\n",
      "88                 5.6               3.0                4.1               1.3\n",
      "95                 5.7               3.0                4.2               1.2\n",
      "102                7.1               3.0                5.9               2.1\n",
      "103                6.3               2.9                5.6               1.8\n",
      "104                6.5               3.0                5.8               2.2\n",
      "107                7.3               2.9                6.3               1.8\n",
      "116                6.5               3.0                5.5               1.8\n",
      "124                6.7               3.3                5.7               2.1\n",
      "137                6.4               3.1                5.5               1.8\n",
      "145                6.7               3.0                5.2               2.3\n"
     ]
    }
   ],
   "source": [
    "training_data =  df.sample(frac=0.8, random_state = 2)\n",
    "testing_data =  df.drop(training_data.index)\n",
    "\n",
    "print(training_data)\n",
    "print(testing_data)"
   ]
  }
 ],
 "metadata": {
  "kernelspec": {
   "display_name": "Python 3",
   "language": "python",
   "name": "python3"
  },
  "language_info": {
   "codemirror_mode": {
    "name": "ipython",
    "version": 3
   },
   "file_extension": ".py",
   "mimetype": "text/x-python",
   "name": "python",
   "nbconvert_exporter": "python",
   "pygments_lexer": "ipython3",
   "version": "3.8.0"
  }
 },
 "nbformat": 4,
 "nbformat_minor": 4
}
