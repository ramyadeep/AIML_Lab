{
 "cells": [
  {
   "cell_type": "code",
   "execution_count": 5,
   "metadata": {},
   "outputs": [],
   "source": [
    "from sklearn.datasets import load_iris\n",
    "from sklearn.model_selection import train_test_split\n",
    "import pandas as pd"
   ]
  },
  {
   "cell_type": "code",
   "execution_count": 6,
   "metadata": {},
   "outputs": [],
   "source": [
    "iris_data = load_iris()\n",
    "df = pd.DataFrame(iris_data.data, columns = iris_data.feature_names)\n",
    "training_data, testing_data = train_test_split(df,test_size=0.2, random_state=25)"
   ]
  },
  {
   "cell_type": "code",
   "execution_count": 7,
   "metadata": {
    "scrolled": true
   },
   "outputs": [
    {
     "name": "stdout",
     "output_type": "stream",
     "text": [
      "     sepal length (cm)  sepal width (cm)  petal length (cm)  petal width (cm)\n",
      "54                 6.5               2.8                4.6               1.5\n",
      "113                5.7               2.5                5.0               2.0\n",
      "135                7.7               3.0                6.1               2.3\n",
      "4                  5.0               3.6                1.4               0.2\n",
      "115                6.4               3.2                5.3               2.3\n",
      "..                 ...               ...                ...               ...\n",
      "118                7.7               2.6                6.9               2.3\n",
      "61                 5.9               3.0                4.2               1.5\n",
      "143                6.8               3.2                5.9               2.3\n",
      "62                 6.0               2.2                4.0               1.0\n",
      "132                6.4               2.8                5.6               2.2\n",
      "\n",
      "[120 rows x 4 columns]\n"
     ]
    }
   ],
   "source": [
    "print(training_data)"
   ]
  },
  {
   "cell_type": "code",
   "execution_count": 8,
   "metadata": {},
   "outputs": [
    {
     "name": "stdout",
     "output_type": "stream",
     "text": [
      "     sepal length (cm)  sepal width (cm)  petal length (cm)  petal width (cm)\n",
      "28                 5.2               3.4                1.4               0.2\n",
      "72                 6.3               2.5                4.9               1.5\n",
      "70                 5.9               3.2                4.8               1.8\n",
      "85                 6.0               3.4                4.5               1.6\n",
      "128                6.4               2.8                5.6               2.1\n",
      "65                 6.7               3.1                4.4               1.4\n",
      "127                6.1               3.0                4.9               1.8\n",
      "42                 4.4               3.2                1.3               0.2\n",
      "81                 5.5               2.4                3.7               1.0\n",
      "93                 5.0               2.3                3.3               1.0\n",
      "21                 5.1               3.7                1.5               0.4\n",
      "31                 5.4               3.4                1.5               0.4\n",
      "26                 5.0               3.4                1.6               0.4\n",
      "133                6.3               2.8                5.1               1.5\n",
      "6                  4.6               3.4                1.4               0.3\n",
      "58                 6.6               2.9                4.6               1.3\n",
      "125                7.2               3.2                6.0               1.8\n",
      "139                6.9               3.1                5.4               2.1\n",
      "64                 5.6               2.9                3.6               1.3\n",
      "94                 5.6               2.7                4.2               1.3\n",
      "79                 5.7               2.6                3.5               1.0\n",
      "99                 5.7               2.8                4.1               1.3\n",
      "66                 5.6               3.0                4.5               1.5\n",
      "20                 5.4               3.4                1.7               0.2\n",
      "34                 4.9               3.1                1.5               0.2\n",
      "117                7.7               3.8                6.7               2.2\n",
      "69                 5.6               2.5                3.9               1.1\n",
      "122                7.7               2.8                6.7               2.0\n",
      "120                6.9               3.2                5.7               2.3\n",
      "41                 4.5               2.3                1.3               0.3\n"
     ]
    }
   ],
   "source": [
    "print(testing_data)"
   ]
  }
 ],
 "metadata": {
  "kernelspec": {
   "display_name": "Python 3",
   "language": "python",
   "name": "python3"
  },
  "language_info": {
   "codemirror_mode": {
    "name": "ipython",
    "version": 3
   },
   "file_extension": ".py",
   "mimetype": "text/x-python",
   "name": "python",
   "nbconvert_exporter": "python",
   "pygments_lexer": "ipython3",
   "version": "3.8.0"
  }
 },
 "nbformat": 4,
 "nbformat_minor": 4
}
