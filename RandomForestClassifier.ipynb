{
  "nbformat": 4,
  "nbformat_minor": 0,
  "metadata": {
    "colab": {
      "name": "RandomForestClassifier.ipynb",
      "provenance": [],
      "collapsed_sections": []
    },
    "kernelspec": {
      "name": "python3",
      "display_name": "Python 3"
    },
    "language_info": {
      "name": "python"
    }
  },
  "cells": [
    {
      "cell_type": "code",
      "metadata": {
        "colab": {
          "base_uri": "https://localhost:8080/"
        },
        "id": "e9KM5vOXJnfi",
        "outputId": "cd91bad3-9cc6-4ae4-b443-7e63f31b7d2b"
      },
      "source": [
        "from sklearn import datasets\n",
        "iris = datasets.load_iris()\n",
        "print(iris.target_names)\n",
        "print(iris.feature_names)"
      ],
      "execution_count": 1,
      "outputs": [
        {
          "output_type": "stream",
          "name": "stdout",
          "text": [
            "['setosa' 'versicolor' 'virginica']\n",
            "['sepal length (cm)', 'sepal width (cm)', 'petal length (cm)', 'petal width (cm)']\n"
          ]
        }
      ]
    },
    {
      "cell_type": "code",
      "metadata": {
        "colab": {
          "base_uri": "https://localhost:8080/"
        },
        "id": "alFI41JJLA1q",
        "outputId": "c909dc7e-e588-492b-aed3-24f142d832fc"
      },
      "source": [
        "import pandas as pd\n",
        "data = pd.DataFrame({\n",
        "'sepal length':iris.data[:,0],\n",
        "'sepal width': iris.data[:,1],\n",
        "'petal length': iris.data[:,2],\n",
        "'petal width':iris.data[:,3],\n",
        "'species':iris.target\n",
        "})\n",
        "\n",
        "\n",
        "from sklearn.model_selection import train_test_split\n",
        "x = data[['sepal length','sepal width','petal length','petal width']]\n",
        "y = data['species']\n",
        "x_train ,x_test,y_train,y_test = train_test_split(x,y,test_size=0.3)\n",
        "\n",
        "from sklearn.ensemble import RandomForestClassifier\n",
        "clf=RandomForestClassifier(n_estimators = 100)\n",
        "clf.fit(x_train,y_train)\n",
        "y_pred = clf.predict(x_test)\n",
        "\n",
        "\n",
        "from sklearn import metrics\n",
        "print('Accuracy: ',metrics.accuracy_score(y_test,y_pred))"
      ],
      "execution_count": 2,
      "outputs": [
        {
          "output_type": "stream",
          "name": "stdout",
          "text": [
            "Accuracy:  0.9333333333333333\n"
          ]
        }
      ]
    }
  ]
}